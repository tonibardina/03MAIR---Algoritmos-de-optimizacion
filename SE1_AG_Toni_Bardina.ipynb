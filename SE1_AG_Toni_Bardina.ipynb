{
  "nbformat": 4,
  "nbformat_minor": 0,
  "metadata": {
    "colab": {
      "name": "SE1_AG_Toni_Bardina.ipynb",
      "provenance": [],
      "collapsed_sections": [],
      "include_colab_link": true
    },
    "kernelspec": {
      "name": "python3",
      "display_name": "Python 3"
    }
  },
  "cells": [
    {
      "cell_type": "markdown",
      "metadata": {
        "id": "view-in-github",
        "colab_type": "text"
      },
      "source": [
        "<a href=\"https://colab.research.google.com/github/tonibardina/03MAIR---Algoritmos-de-optimizacion/blob/master/SE1_AG_Toni_Bardina.ipynb\" target=\"_parent\"><img src=\"https://colab.research.google.com/assets/colab-badge.svg\" alt=\"Open In Colab\"/></a>"
      ]
    },
    {
      "cell_type": "markdown",
      "metadata": {
        "id": "hVbXYX-RfPWh",
        "colab_type": "text"
      },
      "source": [
        "# Algoritmos de optimización - Seminario<br>\n",
        "Nombre y Apellidos:   <br>\n",
        "Url: https://github.com/.../03MAIR---Algoritmos-de-Optimizacion---2019/tree/master/SEMINARIO<br>\n",
        "Problema:\n",
        "> 1. Elección de grupos de población homogéneos <br>\n",
        ">2. Organizar los horarios de partidos de La Liga<br>\n",
        ">3. Combinar cifras y operaciones\n",
        "\n",
        "Descripción del problema:(copiar enunciado)\n",
        "\n",
        "Una productora ganadera nos encarga la tarea de seleccionar grupos de\n",
        "terneros para aplicar 3 tratamientos diferentes. Para cada uno de los\n",
        "tratamientos debemos seleccionar 3 grupos de terneros separados por sexos\n",
        "que sean lo mas homogéneos posible en peso para que en los resultados del\n",
        "tratamiento influya lo menos posible el peso del animal. Disponemos de una\n",
        "población de N animales entre machos y hembras\n",
        "\n",
        "Se solicita diseñar un algoritmo para conseguir una agrupación que cumpla de la\n",
        "mejor manera posible las especificaciones de la productora.\n",
        "....\n",
        "\n",
        "(*) La respuesta es obligatoria\n",
        "                                        "
      ]
    },
    {
      "cell_type": "markdown",
      "metadata": {
        "id": "3_-exlrTgLd-",
        "colab_type": "text"
      },
      "source": [
        "(*)¿Cuantas posibilidades hay sin tener en cuenta las restricciones?<br>\n",
        "\n",
        "\n",
        "\n",
        "¿Cuantas posibilidades hay teniendo en cuenta todas las restricciones.\n",
        "\n",
        "\n"
      ]
    },
    {
      "cell_type": "markdown",
      "metadata": {
        "id": "WfCUqJyKhPcw",
        "colab_type": "text"
      },
      "source": [
        "Respuesta"
      ]
    },
    {
      "cell_type": "code",
      "metadata": {
        "id": "iq6Fe32MgpDX",
        "colab_type": "code",
        "outputId": "91323a1b-1935-4a41-9750-0af36dac1162",
        "colab": {
          "base_uri": "https://localhost:8080/",
          "height": 54
        }
      },
      "source": [
        "'''\n",
        "Sin tener en cuenta ninguna restricción las posibilidades se calculan mediante combinatoria.\n",
        "la fórmula que aplicamo es la utilizada para problemas en los que cualquier unidad puede combinarse con cualquier otra\n",
        "puesto que no hay ninguna restricción, además las combinaciones no pueden repetirse.\n",
        "\n",
        "Por lo tanto las posibilidades seran de: n!/p!(n-p)!, siendo n=número de unidades y p=número de grupos\n",
        "'''\n",
        "\n",
        "'''\n",
        "Teniendo en cuenta las restricciones, en este caso, la separación por sexos\n",
        "las posibilidades siguen siendo muy elevadas. En el enunciado también se especifica\n",
        "que los grupos tiene que ser lo mas homogéneos entre si y entre sus componentes, sin embargo\n",
        "es dificil utilizar esto como una restricción en el momento de generar las posibilidades.\n",
        "\n",
        "Por lo tanto las posibilidades serian la suma de la formula anterior aplicada a dos grupos, uno por cada sexo.\n",
        "'''"
      ],
      "execution_count": 0,
      "outputs": [
        {
          "output_type": "execute_result",
          "data": {
            "text/plain": [
              "'\\nTeniendo en cuenta las restricciones, en este caso, la separación por sexos\\nlas posibilidades siguen siendo muy elevadas. En el enunciado también se especifica\\nque los grupos tiene que ser lo mas homogéneos entre si y entre sus componentes, sin embargo\\nes dificil utilizar esto como una restricción en el momento de generar las posibilidades.\\n\\nPor lo tanto las posibilidades serian la suma de la formula anterior aplicada a dos grupos, uno por cada sexo.\\n'"
            ]
          },
          "metadata": {
            "tags": []
          },
          "execution_count": 1
        }
      ]
    },
    {
      "cell_type": "markdown",
      "metadata": {
        "id": "dzynfVJahHoY",
        "colab_type": "text"
      },
      "source": [
        "Modelo para el espacio de soluciones<br>\n",
        "(*) ¿Cual es la estructura de datos que mejor se adapta al problema? Argumentalo.(Es posible que hayas elegido una al principio y veas la necesidad de cambiar, arguentalo)\n"
      ]
    },
    {
      "cell_type": "markdown",
      "metadata": {
        "id": "xFIJrOwKi2Ti",
        "colab_type": "text"
      },
      "source": [
        "Respuesta"
      ]
    },
    {
      "cell_type": "code",
      "metadata": {
        "id": "38c-7-ejhJmA",
        "colab_type": "code",
        "outputId": "90f9ed34-dd62-4f7c-946c-194a7d05e716",
        "colab": {
          "base_uri": "https://localhost:8080/",
          "height": 54
        }
      },
      "source": [
        "'''\n",
        "En mi caso he utilizado una matriz transformada en dataFrame para gestionar los datos,\n",
        "ya que permite utilizar la libreria Pandas que proporciona funcionalidades muy útiles.\n",
        "\n",
        "Sin embargo durante la resoluciónd del problema, preparación de datos, etc he utilizado en repetidas\n",
        "ocasiones listas a modo de subconjuntos de la matriz principal de datos\n",
        "'''"
      ],
      "execution_count": 0,
      "outputs": [
        {
          "output_type": "execute_result",
          "data": {
            "text/plain": [
              "'\\nEn mi caso he utilizado una matriz transformada en dataFrame para gestionar los datos,\\nya que permite utilizar la libreria Pandas que proporciona funcionalidades muy útiles.\\n\\nSin embargo durante la resoluciónd del problema, preparación de datos, etc he utilizado en repetidas\\nocasiones listas a modo de subconjuntos de la matriz principal de datos\\n'"
            ]
          },
          "metadata": {
            "tags": []
          },
          "execution_count": 4
        }
      ]
    },
    {
      "cell_type": "markdown",
      "metadata": {
        "id": "7Z9U2W7bi-XS",
        "colab_type": "text"
      },
      "source": [
        "Según el modelo para el espacio de soluciones<br>\n",
        "(*)¿Cual es la función objetivo?\n",
        "\n",
        "(*)¿Es un problema de maximización o minimización?"
      ]
    },
    {
      "cell_type": "markdown",
      "metadata": {
        "id": "hBalWLM7j1_d",
        "colab_type": "text"
      },
      "source": [
        "Respuesta"
      ]
    },
    {
      "cell_type": "code",
      "metadata": {
        "id": "1cxnpLniTXY0",
        "colab_type": "code",
        "colab": {}
      },
      "source": [
        "\n",
        "#                 Tratamiento 1   Tratamiento 2  Tratamiento 3\n",
        "# Número de grupos      3               3              3\n",
        "\n",
        "\n",
        "# n = unidades\n",
        "\n",
        "# tratamiento2 = (y1,y2,y3) \n",
        "# tratamiento3 = (j1,j2,j3) \n",
        "# tratamiento1 = (x1,x2,x3) \n",
        "\n",
        "# f(x) = sum(x)/len(x) - sum(n)/len(n) = 0   # Se trata de una función de maximización ya que intentaremos que esta sea lo más acertada posible\n",
        "\n",
        "# Esta función se aplica tanto a cada grupo de cada tratamiento como a la suma de todos los grupos de el tratamiento."
      ],
      "execution_count": 0,
      "outputs": []
    },
    {
      "cell_type": "markdown",
      "metadata": {
        "id": "rlnTYgY1j6I2",
        "colab_type": "text"
      },
      "source": [
        "Diseña un algoritmo para resolver el problema por fuerza bruta"
      ]
    },
    {
      "cell_type": "markdown",
      "metadata": {
        "id": "70rDgxYXkC8r",
        "colab_type": "text"
      },
      "source": [
        "Respuesta"
      ]
    },
    {
      "cell_type": "code",
      "metadata": {
        "id": "CJb5sQ0qkENy",
        "colab_type": "code",
        "colab": {}
      },
      "source": [
        "'''\n",
        "Un algoritmo por fuerza bruta deberia recorrer todas las posibilidades\n",
        "y como hemos visto anteriormente son extremadamente altas.\n",
        "A continuación dejo una aproximación de el algoritmo al cual se le deberia aplicar\n",
        "una técnica de back tracking para que pudiera contemplar todo el espectro de posibilidades,\n",
        "sin embargo este algoritmo solo seria soportable por la máquina de tener unos valores de entrada muy bajos\n",
        "'''\n",
        "def crear_grupos(datos, n_grupos, unidades_por_grupo, mu):\n",
        "\n",
        "  ids, pesos, sexos = zip( *datos )\n",
        "  ids, pesos, sexos = list(ids), list(pesos), list(sexos)\n",
        "  grupos_pesos = []\n",
        "  grupos_ids = []\n",
        "  grupos_sexos = []\n",
        "\n",
        "  for j in range(n_grupos):\n",
        "\n",
        "    # Añadimos el siguiente grupo vacio\n",
        "    grupos_pesos.append([])\n",
        "    grupos_ids.append([])\n",
        "    grupos_sexos.append([])\n",
        "\n",
        "    for x in range(unidades_por_grupo):\n",
        "\n",
        "      # Inicializamos los resultados con falsos valores\n",
        "      mejor_resultado = 999\n",
        "      mejor_resultado_id = 0\n",
        "      mejor_resultado_sexos = 'resultado temporal'\n",
        "      mejor_resultado_indice = 0\n",
        "\n",
        "      for i, z in enumerate(pesos):\n",
        "\n",
        "        if len(grupos_pesos[j]) == 0:\n",
        "\n",
        "          if abs(z - 35) < mejor_resultado:\n",
        "            mejor_resultado = z\n",
        "            mejor_resultado_id = ids[i]\n",
        "            mejor_resultado_sexos = sexos[i]\n",
        "            mejor_resultado_indice = i\n",
        "        \n",
        "        else:\n",
        "\n",
        "          if sexos[i] != grupos_sexos[j][0]:\n",
        "            continue\n",
        "            \n",
        "          if abs(sum(grupos_pesos[j]) + z/(len(grupos_pesos[j])+1) - 35) < mejor_resultado:\n",
        "            mejor_resultado = z\n",
        "            mejor_resultado_id = ids[i]\n",
        "            mejor_resultado_sexos = sexos[i]\n",
        "            mejor_resultado_indice = i\n",
        "        \n",
        "      \n",
        "      # Guardamos los resultados finales en el grupo\n",
        "      grupos_pesos[j].append(mejor_resultado)\n",
        "      grupos_ids[j].append(mejor_resultado_id)\n",
        "      grupos_sexos[j].append(mejor_resultado_sexos)\n",
        "\n",
        "      # Eliminamos de la lista la unidad ya seleccionada\n",
        "      del pesos[mejor_resultado_indice]\n",
        "      del ids[mejor_resultado_indice]\n",
        "      del sexos[mejor_resultado_indice]\n",
        "\n",
        "  return grupos_pesos, grupos_ids, grupos_sexos"
      ],
      "execution_count": 0,
      "outputs": []
    },
    {
      "cell_type": "markdown",
      "metadata": {
        "id": "tgrnsC2nkFa8",
        "colab_type": "text"
      },
      "source": [
        "Calcula la complejidad del algoritmo por fuerza bruta"
      ]
    },
    {
      "cell_type": "markdown",
      "metadata": {
        "id": "9eUd3xwckP68",
        "colab_type": "text"
      },
      "source": [
        "Respuesta"
      ]
    },
    {
      "cell_type": "code",
      "metadata": {
        "id": "rvZWwL-ckRST",
        "colab_type": "code",
        "colab": {}
      },
      "source": [
        "# Sin tener en cuenta las funciones propias de python la complejidad de este algoritmo seria de O(n3), de orden cúbico (En el peor de los casos)\n",
        "'''\n",
        "Cabe destacar que este no es un algoritmo de fuerza bruta exacto, ya que las posibilidades\n",
        "de combinaciones són altísimas y consumiria muchísimo tiempo de ejecución\n",
        "'''"
      ],
      "execution_count": 0,
      "outputs": []
    },
    {
      "cell_type": "markdown",
      "metadata": {
        "id": "txbrmLmskReM",
        "colab_type": "text"
      },
      "source": [
        "(*)Diseña un algoritmo que mejore la complejidad del algortimo por fuerza bruta. Argumenta porque crees que mejora el algoritmo por fuerza bruta"
      ]
    },
    {
      "cell_type": "markdown",
      "metadata": {
        "id": "hLrVwt5QkZPD",
        "colab_type": "text"
      },
      "source": [
        "Respuesta"
      ]
    },
    {
      "cell_type": "code",
      "metadata": {
        "id": "m1eyM21Vkabg",
        "colab_type": "code",
        "colab": {}
      },
      "source": [
        "def quick_sort(lista, listaIds, listaSexos, mu=35, convertidos=False):\n",
        "    # Pesos\n",
        "    menor = []\n",
        "    igual = []\n",
        "    mayor = []\n",
        "    # ids\n",
        "    menorID = []\n",
        "    igualID = []\n",
        "    mayorID = []\n",
        "    # sexos\n",
        "    menorSexos = []\n",
        "    igualSexos = []\n",
        "    mayorSexos = []\n",
        "\n",
        "    if len(lista) > 1:\n",
        "        if convertidos == False:\n",
        "          pivote = abs(lista[0] - mu)\n",
        "        else:\n",
        "          pivote = lista[0]\n",
        "        for i, x in enumerate(lista):\n",
        "          # Aprovechamos que recorremos la lista entera para estandarizar los valores\n",
        "          if convertidos == False:\n",
        "            x = abs(x - mu)\n",
        "          if x < pivote:\n",
        "              menor.append(x)\n",
        "              menorID.append(listaIds[i])\n",
        "              menorSexos.append(listaSexos[i])\n",
        "          elif x == pivote:\n",
        "              igual.append(x)\n",
        "              igualID.append(listaIds[i])\n",
        "              igualSexos.append(listaSexos[i])\n",
        "          elif x > pivote:\n",
        "              mayor.append(x)\n",
        "              mayorID.append(listaIds[i])\n",
        "              mayorSexos.append(listaSexos[i])\n",
        "        pesosMenor, idsMenor, sexosMenor = quick_sort(menor, menorID, menorSexos, mu, True)\n",
        "        pesosMayor, idsMayor, sexosMayor = quick_sort(mayor, mayorID, mayorSexos, mu, True)\n",
        "\n",
        "        return [pesosMenor + igual + pesosMayor, idsMenor + igualID + idsMayor, sexosMenor + igualSexos + sexosMayor]\n",
        "    else:\n",
        "        return [lista, listaIds, listaSexos]\n",
        "\n",
        "def crear_grupos_mejorado(datos, n_grupos, mu):\n",
        "  # Descomprimimos los datos\n",
        "  # Los datos tambien podrian venir sin comprimir en una lista de listas\n",
        "  ids, pesos, sexos = zip( *datos )\n",
        "  ids, pesos, sexos = list(ids), list(pesos), list(sexos)\n",
        "\n",
        "  # Ordenamos los valores de las listas: pesos ids y sexos\n",
        "  datos = quick_sort(pesos, ids , sexos) # O(n x log(n)) o O(n^2) en el peor de los casos.\n",
        "  \n",
        "  # Generamos diferentes listas ordenadas\n",
        "  pesos_ordenados = datos[0]\n",
        "  ids_ordenados = datos[1]\n",
        "  sexos_ordenados = datos[2]\n",
        "\n",
        "  pesos_ordenados_macho = []\n",
        "  peso_total_machos = 0\n",
        "  ids_ordenados_macho = []\n",
        "  sexos_ordenados_macho = []\n",
        "\n",
        "  pesos_ordenados_hembra = []\n",
        "  peso_total_hembras = 0\n",
        "  ids_ordenados_hembra = []\n",
        "  sexos_ordenados_hembra = []\n",
        "\n",
        "\n",
        "  # Calculamos el número de unidades por cada sexo aprovechando que haremos un loop\n",
        "  N_unidades_macho = 0\n",
        "  N_unidades_hembra = 0\n",
        "\n",
        "  for i, x in enumerate(pesos_ordenados): # O(n)\n",
        "    # Llenamos las listas separando los valores por sexo\n",
        "    if sexos_ordenados[i] == 'M':\n",
        "      N_unidades_macho += 1\n",
        "      peso_total_machos += x\n",
        "\n",
        "      pesos_ordenados_macho.append(x)\n",
        "      ids_ordenados_macho.append(ids_ordenados[i])\n",
        "    else:\n",
        "      N_unidades_hembra += 1\n",
        "      peso_total_hembras += x\n",
        "\n",
        "      pesos_ordenados_hembra.append(x)\n",
        "      ids_ordenados_hembra.append(ids_ordenados[i])\n",
        "\n",
        "\n",
        "  # Al ser 9 grupos intentaremos repartirlo lo mas homogeneamente con 5 grupos de un sexo y 4 grupos de el otro\n",
        "  N_grupos_machos = 5 if abs(sum(pesos_ordenados_macho)/N_unidades_macho - mu) < abs(sum(pesos_ordenados_hembra)/N_unidades_hembra - mu) else 4\n",
        "  N_grupos_hembras = 5 if N_grupos_machos == 4 else 4\n",
        "\n",
        "  print('\\nNúmero de grupos machos: ', N_grupos_machos)\n",
        "  print('Número de grupos hembras: ', N_grupos_hembras)\n",
        "\n",
        "  # Calculamos el número máximo de terneros que puede haber por cada grupo\n",
        "  max_unidades_grupo_machos = int(N_unidades_macho/N_grupos_machos)\n",
        "  max_unidades_grupo_hembras = int(N_unidades_hembra/N_grupos_hembras)\n",
        "\n",
        "  max_unidades_grupo = max_unidades_grupo_machos if max_unidades_grupo_machos < max_unidades_grupo_hembras else max_unidades_grupo_hembras\n",
        "  print('\\nMáximo de unidades por grupo: ', max_unidades_grupo)\n",
        "\n",
        "\n",
        "  # Eliminamos outliers\n",
        "  for x in range(0, N_unidades_macho-(max_unidades_grupo*N_grupos_machos)): # O(N_unidades_macho-(max_unidades_grupo*N_grupos_machos) < O(n)\n",
        "    del pesos_ordenados_macho[-1]\n",
        "\n",
        "  for x in range(0,N_unidades_hembra-(max_unidades_grupo*N_grupos_hembras)): # O(N_unidades_hembra-(max_unidades_grupo*N_grupos_hembras) < O(n)\n",
        "    del pesos_ordenados_hembra[-1]\n",
        "\n",
        "  print('\\nLista ordenada de pesos (Machos): ', pesos_ordenados_macho)\n",
        "  print('Lista ordenada de pesos (Hembras): ', pesos_ordenados_hembra)\n",
        "\n",
        "  grupos_machos = []\n",
        "  grupos_machos_ids = []\n",
        "  contador = 0\n",
        "  direccion = 1\n",
        "  for i, x in enumerate(pesos_ordenados_macho): # O(pesos_ordenados_macho) < O(n)\n",
        "    if contador == N_grupos_machos:\n",
        "      contador = 0\n",
        "      direccion = 1 if direccion == -1 else -1\n",
        "    # Creamos los grupos vacios\n",
        "    try:\n",
        "      grupos_machos[contador]\n",
        "    except:\n",
        "      grupos_machos.append([])\n",
        "      grupos_machos_ids.append([])\n",
        "    \n",
        "    if direccion == 1:\n",
        "      grupos_machos[contador].append(x)\n",
        "      grupos_machos_ids[contador].append(ids_ordenados_macho[i])\n",
        "    else:\n",
        "      grupos_machos_ids[N_grupos_machos-contador-1].append(ids_ordenados_macho[i])\n",
        "      grupos_machos[N_grupos_machos-contador-1].append(x)\n",
        "\n",
        "    contador += 1\n",
        "    \n",
        "  grupos_hembras = []\n",
        "  grupos_hembras_ids = []\n",
        "  contador = 0\n",
        "  direccion = 1\n",
        "  for i, x in enumerate(pesos_ordenados_hembra): # O(pesos_ordenados_hembra) < O(n)\n",
        "    if contador == N_grupos_hembras:\n",
        "      contador = 0\n",
        "      direccion = 1 if direccion == -1 else -1\n",
        "    # Creamos los grupos vacios\n",
        "    try:\n",
        "      grupos_hembras[contador]\n",
        "    except:\n",
        "      grupos_hembras.append([])\n",
        "      grupos_hembras_ids.append([])\n",
        "    \n",
        "    if direccion == 1:\n",
        "      grupos_hembras[contador].append(x)\n",
        "      grupos_hembras_ids[contador].append(ids_ordenados_hembra[i])\n",
        "    else:\n",
        "      grupos_hembras[N_grupos_hembras-contador-1].append(x)\n",
        "      grupos_hembras_ids[N_grupos_hembras-contador-1].append(ids_ordenados_hembra[i])\n",
        "\n",
        "    contador += 1\n",
        "\n",
        "  return {\n",
        "      'Grupos machos ids':  grupos_machos_ids,\n",
        "      'Grupos machos pesos (Estandarizados)':  grupos_machos,\n",
        "      'Grupos machos media': peso_total_machos/N_unidades_macho,\n",
        "      ##\n",
        "      'Grupos hembras ids':  grupos_hembras_ids,\n",
        "      'Grupos hembras pesos (Estandarizados)':  grupos_hembras,\n",
        "      'Grupos hembras media': peso_total_hembras/N_unidades_hembra,\n",
        "  }"
      ],
      "execution_count": 0,
      "outputs": []
    },
    {
      "cell_type": "markdown",
      "metadata": {
        "id": "eGDB4K6uk1iN",
        "colab_type": "text"
      },
      "source": [
        "(*)Calcula la complejidad del algoritmo "
      ]
    },
    {
      "cell_type": "markdown",
      "metadata": {
        "id": "NhpTh_BPk1ms",
        "colab_type": "text"
      },
      "source": [
        "Respuesta"
      ]
    },
    {
      "cell_type": "code",
      "metadata": {
        "id": "nREzhkStlCq8",
        "colab_type": "code",
        "colab": {}
      },
      "source": [
        "# O(n log n) hasta O(n^2) en el peor de los casos"
      ],
      "execution_count": 0,
      "outputs": []
    },
    {
      "cell_type": "markdown",
      "metadata": {
        "id": "3M6QjTsSkmYe",
        "colab_type": "text"
      },
      "source": [
        "Según el problema (y tenga sentido), diseña un juego de datos de entrada aleatorios"
      ]
    },
    {
      "cell_type": "markdown",
      "metadata": {
        "id": "Jc3_OlyNkvjZ",
        "colab_type": "text"
      },
      "source": [
        "Respuesta"
      ]
    },
    {
      "cell_type": "code",
      "metadata": {
        "id": "sJ-N2etjkyWc",
        "colab_type": "code",
        "colab": {}
      },
      "source": [
        "import numpy as np\n",
        "import pandas as pd\n",
        "import math\n",
        "from sklearn import preprocessing\n",
        "from IPython.display import display\n",
        "\n",
        "# https://colab.research.google.com/drive/1Jl7Myc3mRQ3wPbnlcErMGBK16ysCHqxd\n",
        "\n",
        "# **** Primero creamos el dataset *****\n",
        "\n",
        "# Número de unidades del problema (vacas)\n",
        "unidades = 100\n",
        "N_de_grupos = 9\n",
        "\n",
        "# Media\n",
        "mu = 35 \n",
        "# Desviación std\n",
        "sigma = 3.1\n",
        "\n",
        "# Generamos entradas aleatorias para los pesos\n",
        "pesos = mu + sigma * np.random.randn(unidades)\n",
        "\n",
        "# Generamos entradas aleatorias para los sexos\n",
        "sexos = ['M', 'H']\n",
        "sexos_random = np.random.choice(sexos, unidades)\n",
        "\n",
        "# Generamos una lista de ID's\n",
        "ids = list(range(1,unidades+1))\n",
        "\n",
        "datos = pd.DataFrame({'ID': ids, 'Peso': pesos, 'Sexo': sexos_random})\n",
        "\n",
        "# **** Fin generación Dataset ****"
      ],
      "execution_count": 0,
      "outputs": []
    },
    {
      "cell_type": "markdown",
      "metadata": {
        "id": "zy5ZROmjlGo1",
        "colab_type": "text"
      },
      "source": [
        "Aplica el algoritmo al juego de datos generado"
      ]
    },
    {
      "cell_type": "markdown",
      "metadata": {
        "id": "_Cmj-PVylMsa",
        "colab_type": "text"
      },
      "source": [
        "Respuesta"
      ]
    },
    {
      "cell_type": "code",
      "metadata": {
        "id": "Jkx8GeiYlUz1",
        "colab_type": "code",
        "outputId": "8af4554d-5827-4f60-b8fb-f63c6dfb8d1c",
        "colab": {
          "base_uri": "https://localhost:8080/",
          "height": 1000
        }
      },
      "source": [
        "print('Mediante fuerza bruta:')\n",
        "grupos_fb = crear_grupos(zip(datos.ID, datos.Peso, datos.Sexo), 9, 10, 35)\n",
        "\n",
        "# Vemos el nivel de acierto de el algoritmo\n",
        "print('\\nMedia de todos los ejemplares:')\n",
        "print(sum(list(datos.Peso))/len(list(datos.Peso)))\n",
        "\n",
        "print('\\nMedia de los grupos generados por el algoritmo:')\n",
        "print(sum([sum(x)/len(x) for x in grupos_fb[0]])/len(grupos_fb[0]))\n",
        "\n",
        "print('\\nMedia por cada grupo:')\n",
        "for x in grupos_fb[0]:\n",
        "  print(sum(x)/len(x))\n",
        "\n",
        "\n",
        "print('\\nMediante Algoritmo mejorado:')\n",
        "\n",
        "grupos_fb = crear_grupos_mejorado(zip(datos.ID, datos.Peso, datos.Sexo), 9, 35)\n",
        "\n",
        "# Grupos machos\n",
        "\n",
        "displayResultsids = {}\n",
        "for i, x in enumerate(grupos_fb['Grupos machos ids']):\n",
        "  displayResultsids['Grupo {}'.format(i+1)] = x\n",
        "\n",
        "displayResultsPesos = {}\n",
        "for i, x in enumerate(grupos_fb['Grupos machos pesos (Estandarizados)']):\n",
        "  displayResultsPesos['Grupo {}'.format(i+1)] = x\n",
        "\n",
        "print('\\n Resultados machos ids:')\n",
        "display(pd.DataFrame(displayResultsids))\n",
        "\n",
        "'Grupos machos pesos (Estandarizados)'\n",
        "\n",
        "print('\\n Resultados machos pesos:')\n",
        "displayResultsPesos = pd.DataFrame(displayResultsPesos)\n",
        "display(displayResultsPesos)\n",
        "\n",
        "print('\\nMedia de todos los ejemplares:', grupos_fb['Grupos machos media'])\n",
        "print('Media de los grupos generados por el algoritmo:')\n",
        "print([displayResultsPesos[x].mean() for x in displayResultsPesos.columns.values])\n",
        "\n",
        "\n",
        "# Grupos hembra\n",
        "\n",
        "displayResultsidsH = {}\n",
        "for i, x in enumerate(grupos_fb['Grupos hembras ids']):\n",
        "  displayResultsidsH['Grupo {}'.format(i+1)] = x\n",
        "\n",
        "displayResultsPesosH = {}\n",
        "for i, x in enumerate(grupos_fb['Grupos hembras pesos (Estandarizados)']):\n",
        "  displayResultsPesosH['Grupo {}'.format(i+1)] = x\n",
        "\n",
        "print('\\n Resultados hembras ids:')\n",
        "display(pd.DataFrame(displayResultsidsH))\n",
        "\n",
        "'Grupos hembras pesos (Estandarizados)'\n",
        "\n",
        "print('\\n Resultados hembras pesos:')\n",
        "displayResultsPesosH = pd.DataFrame(displayResultsPesosH)\n",
        "display(displayResultsPesosH)\n",
        "\n",
        "print('\\nMedia de todos los ejemplares:', grupos_fb['Grupos hembras media'])\n",
        "print('Media de los grupos generados por el algoritmo:')\n",
        "print([displayResultsPesosH[x].mean() for x in displayResultsPesosH.columns.values])\n",
        "\n",
        "\n",
        "'''\n",
        "Como podemos ver las medias \n",
        "(entendemos medias como la media de la desviación entre sus valores y el valor medio) \n",
        "de cada grupo tanto en machos como hembras son muy parecidas. En algunos casos\n",
        "podemos ver como la desviacion media de los grupos es inferior a la de los datos generales\n",
        "\n",
        "Este algoritmo mejora el de fuerza bruta ya que se trata de un O(n log n) o en su pero caso \n",
        "O(n^2), contra el O(n^3) de el algoritmo (muy simplificado) de fuerza bruta.\n",
        "Realmente el algoritmo de fuerza bruta seria de O(n hard).\n",
        "'''"
      ],
      "execution_count": 0,
      "outputs": [
        {
          "output_type": "stream",
          "text": [
            "Mediante fuerza bruta:\n",
            "\n",
            "Media de todos los ejemplares:\n",
            "35.00677612592619\n",
            "\n",
            "Media de los grupos generados por el algoritmo:\n",
            "45.81084914445918\n",
            "\n",
            "Media por cada grupo:\n",
            "33.9592894660568\n",
            "34.23244578728914\n",
            "35.391189471462624\n",
            "35.8858229941828\n",
            "35.093989379912436\n",
            "35.17609798863411\n",
            "132.38392510964718\n",
            "34.91254157905708\n",
            "35.26234052389043\n",
            "\n",
            "Mediante Algoritmo mejorado:\n",
            "Pprueba: 59\n",
            "Preal: 59\n",
            "\n",
            "Número de grupos machos:  5\n",
            "Número de grupos hembras:  4\n",
            "\n",
            "Máximo de unidades por grupo:  10\n",
            "\n",
            "Lista ordenada de pesos (Machos):  [0.016289255940741043, 0.10334267559196064, 0.13854257312026874, 0.15311909537240354, 0.21290768286522876, 0.25555373491661015, 0.2715556843914584, 0.35079442100002467, 0.4835777553566132, 0.6596732420754705, 0.8444864631609477, 0.8829630972893341, 1.086905862978412, 1.1579172144219783, 1.240623319805806, 1.3004403790889967, 1.3523846396735024, 1.4280352491950552, 1.4861252195328802, 1.5319617359148907, 1.68796034242758, 1.7112158576625447, 1.754973701154242, 1.8715199730671017, 1.9154312828100615, 1.925306753983513, 1.9435309494926187, 2.0036756248264282, 2.0170994528355237, 2.0913711812477516, 2.1196068601215643, 2.1361226864928327, 2.194347490498963, 2.35648107290541, 2.710749652532769, 2.8322382639737356, 2.86682606995997, 2.895063636949885, 2.9143740494034276, 2.9293039576323636, 3.015467768470259, 3.083182623258793, 3.097506016363667, 3.1514453376859564, 3.2207985360909177, 3.366620794650359, 3.6777977026843907, 3.892417277304183, 3.9489841595076527, 4.000996949444296]\n",
            "Lista ordenada de pesos (Hembras):  [0.04567320671460351, 0.13389867687662615, 0.41014475669092576, 0.4143216925789659, 0.41516972509079864, 0.43042595704343967, 0.4476721196920437, 0.5794843532232861, 0.6287254035145367, 0.8411739297153602, 0.9682130697611129, 0.9934533634012865, 1.3277223641849858, 1.3718888768373247, 1.5099617799678242, 1.5704588047302508, 1.9064812598377188, 2.0473219503437363, 2.141663190819969, 2.2810941146059065, 2.3477306217956766, 2.620841312901476, 2.638475678753551, 2.6443604750313625, 2.697020529270148, 2.7929782492557322, 2.7998265876406734, 2.9415512578665712, 3.105129985472697, 3.2508443437237915, 3.3678350922097913, 3.5937532861160264, 3.6050992101761636, 3.740463656883719, 3.890535074602628, 3.941197933453907, 4.010200721303029, 4.074568079730575, 5.296244700771695, 5.961194174599022]\n",
            "\n",
            " Resultados machos ids:\n"
          ],
          "name": "stdout"
        },
        {
          "output_type": "display_data",
          "data": {
            "text/html": [
              "<div>\n",
              "<style scoped>\n",
              "    .dataframe tbody tr th:only-of-type {\n",
              "        vertical-align: middle;\n",
              "    }\n",
              "\n",
              "    .dataframe tbody tr th {\n",
              "        vertical-align: top;\n",
              "    }\n",
              "\n",
              "    .dataframe thead th {\n",
              "        text-align: right;\n",
              "    }\n",
              "</style>\n",
              "<table border=\"1\" class=\"dataframe\">\n",
              "  <thead>\n",
              "    <tr style=\"text-align: right;\">\n",
              "      <th></th>\n",
              "      <th>Grupo 1</th>\n",
              "      <th>Grupo 2</th>\n",
              "      <th>Grupo 3</th>\n",
              "      <th>Grupo 4</th>\n",
              "      <th>Grupo 5</th>\n",
              "    </tr>\n",
              "  </thead>\n",
              "  <tbody>\n",
              "    <tr>\n",
              "      <th>0</th>\n",
              "      <td>59</td>\n",
              "      <td>57</td>\n",
              "      <td>67</td>\n",
              "      <td>78</td>\n",
              "      <td>45</td>\n",
              "    </tr>\n",
              "    <tr>\n",
              "      <th>1</th>\n",
              "      <td>40</td>\n",
              "      <td>24</td>\n",
              "      <td>3</td>\n",
              "      <td>2</td>\n",
              "      <td>89</td>\n",
              "    </tr>\n",
              "    <tr>\n",
              "      <th>2</th>\n",
              "      <td>99</td>\n",
              "      <td>36</td>\n",
              "      <td>8</td>\n",
              "      <td>96</td>\n",
              "      <td>73</td>\n",
              "    </tr>\n",
              "    <tr>\n",
              "      <th>3</th>\n",
              "      <td>94</td>\n",
              "      <td>62</td>\n",
              "      <td>47</td>\n",
              "      <td>58</td>\n",
              "      <td>5</td>\n",
              "    </tr>\n",
              "    <tr>\n",
              "      <th>4</th>\n",
              "      <td>77</td>\n",
              "      <td>31</td>\n",
              "      <td>35</td>\n",
              "      <td>7</td>\n",
              "      <td>39</td>\n",
              "    </tr>\n",
              "    <tr>\n",
              "      <th>5</th>\n",
              "      <td>43</td>\n",
              "      <td>21</td>\n",
              "      <td>37</td>\n",
              "      <td>19</td>\n",
              "      <td>48</td>\n",
              "    </tr>\n",
              "    <tr>\n",
              "      <th>6</th>\n",
              "      <td>42</td>\n",
              "      <td>27</td>\n",
              "      <td>63</td>\n",
              "      <td>66</td>\n",
              "      <td>82</td>\n",
              "    </tr>\n",
              "    <tr>\n",
              "      <th>7</th>\n",
              "      <td>76</td>\n",
              "      <td>88</td>\n",
              "      <td>68</td>\n",
              "      <td>23</td>\n",
              "      <td>9</td>\n",
              "    </tr>\n",
              "    <tr>\n",
              "      <th>8</th>\n",
              "      <td>46</td>\n",
              "      <td>91</td>\n",
              "      <td>61</td>\n",
              "      <td>52</td>\n",
              "      <td>29</td>\n",
              "    </tr>\n",
              "    <tr>\n",
              "      <th>9</th>\n",
              "      <td>13</td>\n",
              "      <td>32</td>\n",
              "      <td>93</td>\n",
              "      <td>98</td>\n",
              "      <td>30</td>\n",
              "    </tr>\n",
              "  </tbody>\n",
              "</table>\n",
              "</div>"
            ],
            "text/plain": [
              "   Grupo 1  Grupo 2  Grupo 3  Grupo 4  Grupo 5\n",
              "0       59       57       67       78       45\n",
              "1       40       24        3        2       89\n",
              "2       99       36        8       96       73\n",
              "3       94       62       47       58        5\n",
              "4       77       31       35        7       39\n",
              "5       43       21       37       19       48\n",
              "6       42       27       63       66       82\n",
              "7       76       88       68       23        9\n",
              "8       46       91       61       52       29\n",
              "9       13       32       93       98       30"
            ]
          },
          "metadata": {
            "tags": []
          }
        },
        {
          "output_type": "stream",
          "text": [
            "\n",
            " Resultados machos pesos:\n"
          ],
          "name": "stdout"
        },
        {
          "output_type": "display_data",
          "data": {
            "text/html": [
              "<div>\n",
              "<style scoped>\n",
              "    .dataframe tbody tr th:only-of-type {\n",
              "        vertical-align: middle;\n",
              "    }\n",
              "\n",
              "    .dataframe tbody tr th {\n",
              "        vertical-align: top;\n",
              "    }\n",
              "\n",
              "    .dataframe thead th {\n",
              "        text-align: right;\n",
              "    }\n",
              "</style>\n",
              "<table border=\"1\" class=\"dataframe\">\n",
              "  <thead>\n",
              "    <tr style=\"text-align: right;\">\n",
              "      <th></th>\n",
              "      <th>Grupo 1</th>\n",
              "      <th>Grupo 2</th>\n",
              "      <th>Grupo 3</th>\n",
              "      <th>Grupo 4</th>\n",
              "      <th>Grupo 5</th>\n",
              "    </tr>\n",
              "  </thead>\n",
              "  <tbody>\n",
              "    <tr>\n",
              "      <th>0</th>\n",
              "      <td>0.016289</td>\n",
              "      <td>0.103343</td>\n",
              "      <td>0.138543</td>\n",
              "      <td>0.153119</td>\n",
              "      <td>0.212908</td>\n",
              "    </tr>\n",
              "    <tr>\n",
              "      <th>1</th>\n",
              "      <td>0.659673</td>\n",
              "      <td>0.483578</td>\n",
              "      <td>0.350794</td>\n",
              "      <td>0.271556</td>\n",
              "      <td>0.255554</td>\n",
              "    </tr>\n",
              "    <tr>\n",
              "      <th>2</th>\n",
              "      <td>0.844486</td>\n",
              "      <td>0.882963</td>\n",
              "      <td>1.086906</td>\n",
              "      <td>1.157917</td>\n",
              "      <td>1.240623</td>\n",
              "    </tr>\n",
              "    <tr>\n",
              "      <th>3</th>\n",
              "      <td>1.531962</td>\n",
              "      <td>1.486125</td>\n",
              "      <td>1.428035</td>\n",
              "      <td>1.352385</td>\n",
              "      <td>1.300440</td>\n",
              "    </tr>\n",
              "    <tr>\n",
              "      <th>4</th>\n",
              "      <td>1.687960</td>\n",
              "      <td>1.711216</td>\n",
              "      <td>1.754974</td>\n",
              "      <td>1.871520</td>\n",
              "      <td>1.915431</td>\n",
              "    </tr>\n",
              "    <tr>\n",
              "      <th>5</th>\n",
              "      <td>2.091371</td>\n",
              "      <td>2.017099</td>\n",
              "      <td>2.003676</td>\n",
              "      <td>1.943531</td>\n",
              "      <td>1.925307</td>\n",
              "    </tr>\n",
              "    <tr>\n",
              "      <th>6</th>\n",
              "      <td>2.119607</td>\n",
              "      <td>2.136123</td>\n",
              "      <td>2.194347</td>\n",
              "      <td>2.356481</td>\n",
              "      <td>2.710750</td>\n",
              "    </tr>\n",
              "    <tr>\n",
              "      <th>7</th>\n",
              "      <td>2.929304</td>\n",
              "      <td>2.914374</td>\n",
              "      <td>2.895064</td>\n",
              "      <td>2.866826</td>\n",
              "      <td>2.832238</td>\n",
              "    </tr>\n",
              "    <tr>\n",
              "      <th>8</th>\n",
              "      <td>3.015468</td>\n",
              "      <td>3.083183</td>\n",
              "      <td>3.097506</td>\n",
              "      <td>3.151445</td>\n",
              "      <td>3.220799</td>\n",
              "    </tr>\n",
              "    <tr>\n",
              "      <th>9</th>\n",
              "      <td>4.000997</td>\n",
              "      <td>3.948984</td>\n",
              "      <td>3.892417</td>\n",
              "      <td>3.677798</td>\n",
              "      <td>3.366621</td>\n",
              "    </tr>\n",
              "  </tbody>\n",
              "</table>\n",
              "</div>"
            ],
            "text/plain": [
              "    Grupo 1   Grupo 2   Grupo 3   Grupo 4   Grupo 5\n",
              "0  0.016289  0.103343  0.138543  0.153119  0.212908\n",
              "1  0.659673  0.483578  0.350794  0.271556  0.255554\n",
              "2  0.844486  0.882963  1.086906  1.157917  1.240623\n",
              "3  1.531962  1.486125  1.428035  1.352385  1.300440\n",
              "4  1.687960  1.711216  1.754974  1.871520  1.915431\n",
              "5  2.091371  2.017099  2.003676  1.943531  1.925307\n",
              "6  2.119607  2.136123  2.194347  2.356481  2.710750\n",
              "7  2.929304  2.914374  2.895064  2.866826  2.832238\n",
              "8  3.015468  3.083183  3.097506  3.151445  3.220799\n",
              "9  4.000997  3.948984  3.892417  3.677798  3.366621"
            ]
          },
          "metadata": {
            "tags": []
          }
        },
        {
          "output_type": "stream",
          "text": [
            "\n",
            "Media de todos los ejemplares: 2.362099117960919\n",
            "Media de los grupos generados por el algoritmo:\n",
            "[1.8897117756435864, 1.8766987576931562, 1.884226185339113, 1.880257773965479, 1.8980670400717998]\n",
            "\n",
            " Resultados hembras ids:\n"
          ],
          "name": "stdout"
        },
        {
          "output_type": "display_data",
          "data": {
            "text/html": [
              "<div>\n",
              "<style scoped>\n",
              "    .dataframe tbody tr th:only-of-type {\n",
              "        vertical-align: middle;\n",
              "    }\n",
              "\n",
              "    .dataframe tbody tr th {\n",
              "        vertical-align: top;\n",
              "    }\n",
              "\n",
              "    .dataframe thead th {\n",
              "        text-align: right;\n",
              "    }\n",
              "</style>\n",
              "<table border=\"1\" class=\"dataframe\">\n",
              "  <thead>\n",
              "    <tr style=\"text-align: right;\">\n",
              "      <th></th>\n",
              "      <th>Grupo 1</th>\n",
              "      <th>Grupo 2</th>\n",
              "      <th>Grupo 3</th>\n",
              "      <th>Grupo 4</th>\n",
              "    </tr>\n",
              "  </thead>\n",
              "  <tbody>\n",
              "    <tr>\n",
              "      <th>0</th>\n",
              "      <td>74</td>\n",
              "      <td>80</td>\n",
              "      <td>71</td>\n",
              "      <td>12</td>\n",
              "    </tr>\n",
              "    <tr>\n",
              "      <th>1</th>\n",
              "      <td>70</td>\n",
              "      <td>10</td>\n",
              "      <td>86</td>\n",
              "      <td>44</td>\n",
              "    </tr>\n",
              "    <tr>\n",
              "      <th>2</th>\n",
              "      <td>64</td>\n",
              "      <td>56</td>\n",
              "      <td>69</td>\n",
              "      <td>83</td>\n",
              "    </tr>\n",
              "    <tr>\n",
              "      <th>3</th>\n",
              "      <td>33</td>\n",
              "      <td>15</td>\n",
              "      <td>72</td>\n",
              "      <td>87</td>\n",
              "    </tr>\n",
              "    <tr>\n",
              "      <th>4</th>\n",
              "      <td>97</td>\n",
              "      <td>28</td>\n",
              "      <td>50</td>\n",
              "      <td>6</td>\n",
              "    </tr>\n",
              "    <tr>\n",
              "      <th>5</th>\n",
              "      <td>11</td>\n",
              "      <td>38</td>\n",
              "      <td>18</td>\n",
              "      <td>1</td>\n",
              "    </tr>\n",
              "    <tr>\n",
              "      <th>6</th>\n",
              "      <td>26</td>\n",
              "      <td>60</td>\n",
              "      <td>84</td>\n",
              "      <td>90</td>\n",
              "    </tr>\n",
              "    <tr>\n",
              "      <th>7</th>\n",
              "      <td>49</td>\n",
              "      <td>51</td>\n",
              "      <td>4</td>\n",
              "      <td>55</td>\n",
              "    </tr>\n",
              "    <tr>\n",
              "      <th>8</th>\n",
              "      <td>34</td>\n",
              "      <td>25</td>\n",
              "      <td>17</td>\n",
              "      <td>81</td>\n",
              "    </tr>\n",
              "    <tr>\n",
              "      <th>9</th>\n",
              "      <td>20</td>\n",
              "      <td>65</td>\n",
              "      <td>53</td>\n",
              "      <td>16</td>\n",
              "    </tr>\n",
              "  </tbody>\n",
              "</table>\n",
              "</div>"
            ],
            "text/plain": [
              "   Grupo 1  Grupo 2  Grupo 3  Grupo 4\n",
              "0       74       80       71       12\n",
              "1       70       10       86       44\n",
              "2       64       56       69       83\n",
              "3       33       15       72       87\n",
              "4       97       28       50        6\n",
              "5       11       38       18        1\n",
              "6       26       60       84       90\n",
              "7       49       51        4       55\n",
              "8       34       25       17       81\n",
              "9       20       65       53       16"
            ]
          },
          "metadata": {
            "tags": []
          }
        },
        {
          "output_type": "stream",
          "text": [
            "\n",
            " Resultados hembras pesos:\n"
          ],
          "name": "stdout"
        },
        {
          "output_type": "display_data",
          "data": {
            "text/html": [
              "<div>\n",
              "<style scoped>\n",
              "    .dataframe tbody tr th:only-of-type {\n",
              "        vertical-align: middle;\n",
              "    }\n",
              "\n",
              "    .dataframe tbody tr th {\n",
              "        vertical-align: top;\n",
              "    }\n",
              "\n",
              "    .dataframe thead th {\n",
              "        text-align: right;\n",
              "    }\n",
              "</style>\n",
              "<table border=\"1\" class=\"dataframe\">\n",
              "  <thead>\n",
              "    <tr style=\"text-align: right;\">\n",
              "      <th></th>\n",
              "      <th>Grupo 1</th>\n",
              "      <th>Grupo 2</th>\n",
              "      <th>Grupo 3</th>\n",
              "      <th>Grupo 4</th>\n",
              "    </tr>\n",
              "  </thead>\n",
              "  <tbody>\n",
              "    <tr>\n",
              "      <th>0</th>\n",
              "      <td>0.045673</td>\n",
              "      <td>0.133899</td>\n",
              "      <td>0.410145</td>\n",
              "      <td>0.414322</td>\n",
              "    </tr>\n",
              "    <tr>\n",
              "      <th>1</th>\n",
              "      <td>0.579484</td>\n",
              "      <td>0.447672</td>\n",
              "      <td>0.430426</td>\n",
              "      <td>0.415170</td>\n",
              "    </tr>\n",
              "    <tr>\n",
              "      <th>2</th>\n",
              "      <td>0.628725</td>\n",
              "      <td>0.841174</td>\n",
              "      <td>0.968213</td>\n",
              "      <td>0.993453</td>\n",
              "    </tr>\n",
              "    <tr>\n",
              "      <th>3</th>\n",
              "      <td>1.570459</td>\n",
              "      <td>1.509962</td>\n",
              "      <td>1.371889</td>\n",
              "      <td>1.327722</td>\n",
              "    </tr>\n",
              "    <tr>\n",
              "      <th>4</th>\n",
              "      <td>1.906481</td>\n",
              "      <td>2.047322</td>\n",
              "      <td>2.141663</td>\n",
              "      <td>2.281094</td>\n",
              "    </tr>\n",
              "    <tr>\n",
              "      <th>5</th>\n",
              "      <td>2.644360</td>\n",
              "      <td>2.638476</td>\n",
              "      <td>2.620841</td>\n",
              "      <td>2.347731</td>\n",
              "    </tr>\n",
              "    <tr>\n",
              "      <th>6</th>\n",
              "      <td>2.697021</td>\n",
              "      <td>2.792978</td>\n",
              "      <td>2.799827</td>\n",
              "      <td>2.941551</td>\n",
              "    </tr>\n",
              "    <tr>\n",
              "      <th>7</th>\n",
              "      <td>3.593753</td>\n",
              "      <td>3.367835</td>\n",
              "      <td>3.250844</td>\n",
              "      <td>3.105130</td>\n",
              "    </tr>\n",
              "    <tr>\n",
              "      <th>8</th>\n",
              "      <td>3.605099</td>\n",
              "      <td>3.740464</td>\n",
              "      <td>3.890535</td>\n",
              "      <td>3.941198</td>\n",
              "    </tr>\n",
              "    <tr>\n",
              "      <th>9</th>\n",
              "      <td>5.961194</td>\n",
              "      <td>5.296245</td>\n",
              "      <td>4.074568</td>\n",
              "      <td>4.010201</td>\n",
              "    </tr>\n",
              "  </tbody>\n",
              "</table>\n",
              "</div>"
            ],
            "text/plain": [
              "    Grupo 1   Grupo 2   Grupo 3   Grupo 4\n",
              "0  0.045673  0.133899  0.410145  0.414322\n",
              "1  0.579484  0.447672  0.430426  0.415170\n",
              "2  0.628725  0.841174  0.968213  0.993453\n",
              "3  1.570459  1.509962  1.371889  1.327722\n",
              "4  1.906481  2.047322  2.141663  2.281094\n",
              "5  2.644360  2.638476  2.620841  2.347731\n",
              "6  2.697021  2.792978  2.799827  2.941551\n",
              "7  3.593753  3.367835  3.250844  3.105130\n",
              "8  3.605099  3.740464  3.890535  3.941198\n",
              "9  5.961194  5.296245  4.074568  4.010201"
            ]
          },
          "metadata": {
            "tags": []
          }
        },
        {
          "output_type": "stream",
          "text": [
            "\n",
            "Media de todos los ejemplares: 2.3540786060680405\n",
            "Media de los grupos generados por el algoritmo:\n",
            "[2.3232250703213118, 2.281602583447008, 2.1958951249751917, 2.1777571779753826]\n"
          ],
          "name": "stdout"
        }
      ]
    },
    {
      "cell_type": "markdown",
      "metadata": {
        "colab_type": "text",
        "id": "eTFWUJQrtGcv"
      },
      "source": [
        "Enumera las referencias que has utilizado(si ha sido necesario) para llevar a cabo el trabajo"
      ]
    },
    {
      "cell_type": "markdown",
      "metadata": {
        "id": "YKQ_mRBttWsP",
        "colab_type": "text"
      },
      "source": [
        "Respuesta\n",
        "\n",
        "Documentos de la asignatura\n",
        "Documentos oficiales de:\n",
        "*   Numy\n",
        "*   Sklearn\n",
        "*   Pandas\n",
        "*   ...\n"
      ]
    },
    {
      "cell_type": "markdown",
      "metadata": {
        "id": "kAkDPUyRtYyH",
        "colab_type": "text"
      },
      "source": [
        "Describe brevemente las lineas de como crees que es posible avanzar en el estudio del problema. Ten en cuenta incluso posibles variaciones del problema y/o variaciones al alza del tamaño"
      ]
    },
    {
      "cell_type": "markdown",
      "metadata": {
        "id": "IE0uZmo-tZu-",
        "colab_type": "text"
      },
      "source": [
        "Respuesta\n",
        "\n",
        "Para evolucionar en el problema creo que seria muy importante tratar los datos por separado de el algoritmo. Además creo que podríamos implementar en el algorítmo algunas mejores en el momento de decidir el valor de división entre grupos. \n",
        "\n",
        "También creo que puede ser importante determinar si la separación por sexos es más importante que la homogeneidad de pesos, ya que esta separación genera grupos de medias diferentes, y por lo tanto, afecta a los resultados."
      ]
    }
  ]
}