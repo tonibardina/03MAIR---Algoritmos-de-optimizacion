{
  "nbformat": 4,
  "nbformat_minor": 0,
  "metadata": {
    "colab": {
      "name": "AG3_Toni_Bardina.ipynb",
      "provenance": [],
      "collapsed_sections": [],
      "include_colab_link": true
    },
    "kernelspec": {
      "name": "python3",
      "display_name": "Python 3"
    }
  },
  "cells": [
    {
      "cell_type": "markdown",
      "metadata": {
        "id": "view-in-github",
        "colab_type": "text"
      },
      "source": [
        "<a href=\"https://colab.research.google.com/github/tonibardina/03MAIR---Algoritmos-de-optimizacion/blob/master/AG3_Toni_Bardina.ipynb\" target=\"_parent\"><img src=\"https://colab.research.google.com/assets/colab-badge.svg\" alt=\"Open In Colab\"/></a>"
      ]
    },
    {
      "cell_type": "code",
      "metadata": {
        "id": "7drq4sdeFkKv",
        "colab_type": "code",
        "colab": {}
      },
      "source": [
        "# AG3 - Actividad Guiada3\n",
        "# Toni Bardina\n",
        "\n",
        "# URL Colaboratory: https://colab.research.google.com/drive/1xCADKMmPmAdpeHhtoqK-yPtD9BGbLmV4\n",
        "\n",
        "# URL Github: "
      ],
      "execution_count": 0,
      "outputs": []
    },
    {
      "cell_type": "code",
      "metadata": {
        "id": "re0v-yOBIp14",
        "colab_type": "code",
        "outputId": "b03d430d-3462-434a-bbfd-15d275d98161",
        "colab": {
          "base_uri": "https://localhost:8080/",
          "height": 187
        }
      },
      "source": [
        "!pip install request\n",
        "!pip install tsplib95"
      ],
      "execution_count": 0,
      "outputs": [
        {
          "output_type": "stream",
          "text": [
            "Requirement already satisfied: request in /usr/local/lib/python3.6/dist-packages (2019.4.13)\n",
            "Requirement already satisfied: post in /usr/local/lib/python3.6/dist-packages (from request) (2019.4.13)\n",
            "Requirement already satisfied: get in /usr/local/lib/python3.6/dist-packages (from request) (2019.4.13)\n",
            "Requirement already satisfied: setuptools in /usr/local/lib/python3.6/dist-packages (from request) (41.2.0)\n",
            "Requirement already satisfied: query-string in /usr/local/lib/python3.6/dist-packages (from get->request) (2019.4.13)\n",
            "Requirement already satisfied: public in /usr/local/lib/python3.6/dist-packages (from query-string->get->request) (2019.4.13)\n",
            "Requirement already satisfied: tsplib95 in /usr/local/lib/python3.6/dist-packages (0.3.3)\n",
            "Requirement already satisfied: Click>=6.0 in /usr/local/lib/python3.6/dist-packages (from tsplib95) (7.0)\n",
            "Requirement already satisfied: networkx==2.1 in /usr/local/lib/python3.6/dist-packages (from tsplib95) (2.1)\n",
            "Requirement already satisfied: decorator>=4.1.0 in /usr/local/lib/python3.6/dist-packages (from networkx==2.1->tsplib95) (4.4.0)\n"
          ],
          "name": "stdout"
        }
      ]
    },
    {
      "cell_type": "code",
      "metadata": {
        "id": "qBD-a0iYLHZ4",
        "colab_type": "code",
        "outputId": "ded1eb30-4094-4f5c-c28a-854606b677c7",
        "colab": {
          "base_uri": "https://localhost:8080/",
          "height": 34
        }
      },
      "source": [
        "from urllib import request\n",
        "file='swiss42.tsp'\n",
        "\n",
        "import random\n",
        "import math\n",
        "import tsplib95 as tpl\n",
        "\n",
        "request.urlretrieve('http://elib.zib.de/pub/mp-testdata/tsp/tsplib/tsp/{}'.format(file), file)\n"
      ],
      "execution_count": 0,
      "outputs": [
        {
          "output_type": "execute_result",
          "data": {
            "text/plain": [
              "('swiss42.tsp', <http.client.HTTPMessage at 0x7ff9c714f780>)"
            ]
          },
          "metadata": {
            "tags": []
          },
          "execution_count": 3
        }
      ]
    },
    {
      "cell_type": "code",
      "metadata": {
        "id": "bb2UtCVOLX7q",
        "colab_type": "code",
        "colab": {}
      },
      "source": [
        "problema = tpl.load_problem(file)\n",
        "NODOS = list(problema.get_nodes())"
      ],
      "execution_count": 0,
      "outputs": []
    },
    {
      "cell_type": "code",
      "metadata": {
        "id": "LidLhCutM7UM",
        "colab_type": "code",
        "colab": {}
      },
      "source": [
        "# Definimos función de distancia\n",
        "def distancia(a, b, problema):\n",
        "  return problema.wfunc(a, b)\n",
        "\n",
        "\n",
        "def crear_solucion(NODOS):\n",
        "  solucion = [0]\n",
        "  for _ in range(len(NODOS)-1):\n",
        "    solucion += [ random.choice(list(set(NODOS) - set({0}) - set(solucion))) ]\n",
        "    \n",
        "  return solucion\n",
        "\n",
        "\n",
        "def distancia_total(solucion, problema):\n",
        "  distancia_ret = 0\n",
        "  for i in range(len(solucion)-1):\n",
        "    distancia_ret += distancia(solucion[i], solucion[i+1], problema)\n",
        "  \n",
        "  return distancia_ret + distancia(solucion[len(solucion)-1], solucion[0], problema)\n",
        "    \n",
        "\n",
        "solucion_prueba = crear_solucion(NODOS)"
      ],
      "execution_count": 0,
      "outputs": []
    },
    {
      "cell_type": "code",
      "metadata": {
        "id": "MFqX9oB5PnCN",
        "colab_type": "code",
        "colab": {}
      },
      "source": [
        "def busqueda_aleatoria(problema, N, NODOS=NODOS):\n",
        "  mejor_solucion = []\n",
        "  mejor_distancia = 10e10\n",
        "  \n",
        "  for i in range(N):\n",
        "    solucion = crear_solucion(NODOS)\n",
        "    distancia_solucion = distancia_total(solucion, problema)\n",
        "\n",
        "    if distancia_solucion < mejor_distancia:\n",
        "      mejor_solucion = solucion\n",
        "      mejor_distancia = distancia_solucion\n",
        "   \n",
        "  return mejor_solucion\n",
        "\n",
        "busqueda_aleatoria(problema, 5000)"
      ],
      "execution_count": 0,
      "outputs": []
    },
    {
      "cell_type": "code",
      "metadata": {
        "id": "PNHsf6IsWbsp",
        "colab_type": "code",
        "colab": {}
      },
      "source": [
        "def generar_vecina(solucion, problema):\n",
        "  mejor_solucion = []\n",
        "  mejor_distancia = 10e10\n",
        "  \n",
        "  for i in range(1, len(solucion)-1):\n",
        "    for j in range(i+1, len(solucion)):\n",
        "      vecina = solucion[:i] + [solucion[j]] + solucion[i+1:j] + [solucion[i]] + solucion[j+1:]\n",
        "      distancia_vecina = distancia_total(vecina, problema)\n",
        "      \n",
        "      if distancia_vecina < mejor_distancia:\n",
        "        mejor_distancia, mejor_solucion = distancia_vecina, vecina\n",
        "  \n",
        "  return mejor_solucion\n",
        "\n",
        "solucion_prueba = crear_solucion(NODOS)\n",
        "generar_vecina(solucion_prueba, problema)"
      ],
      "execution_count": 0,
      "outputs": []
    },
    {
      "cell_type": "code",
      "metadata": {
        "id": "MediZBtGyF8I",
        "colab_type": "code",
        "colab": {}
      },
      "source": [
        "def busqueda_local(problema, N, NODOS=NODOS):\n",
        "  mejor_solucion = []\n",
        "  mejor_distancia = 10e10\n",
        "  \n",
        "  solucion_referencia = crear_solucion(NODOS)\n",
        "  \n",
        "  for i in range(N):\n",
        "    vecina = generar_vecina(solucion_referencia, problema)\n",
        "    distancia_vecina = distancia_total(vecina, problema)\n",
        "     \n",
        "    if distancia_vecina < mejor_distancia:\n",
        "        mejor_distancia, mejor_solucion = distancia_vecina, vecina\n",
        "    \n",
        "    solucion_referencia = mejor_solucion\n",
        "  \n",
        "  print(mejor_distancia)\n",
        "  return mejor_solucion\n",
        "\n",
        "busqueda_local(problema, 100)"
      ],
      "execution_count": 0,
      "outputs": []
    },
    {
      "cell_type": "code",
      "metadata": {
        "id": "joL8ygnD0_SI",
        "colab_type": "code",
        "colab": {}
      },
      "source": [
        "def probabilidad(T, d):\n",
        "  rnd = random.random()\n",
        "  \n",
        "  if rnd >= (math.e**(-1*d)/((T * .5*10**(-5)))):\n",
        "    return True\n",
        "  else:\n",
        "    return False\n",
        "\n",
        "def bajar_temperatura(T):\n",
        "  return T*0.9"
      ],
      "execution_count": 0,
      "outputs": []
    },
    {
      "cell_type": "code",
      "metadata": {
        "id": "90-estUj8RTd",
        "colab_type": "code",
        "outputId": "59c2f1ef-321b-41b4-e6f5-29f3b099e8e3",
        "colab": {
          "base_uri": "https://localhost:8080/",
          "height": 748
        }
      },
      "source": [
        "def recocido_simulado(problem, T, NODOS=NODOS):\n",
        "  solucion_referencia = crear_solucion(NODOS)\n",
        "  \n",
        "  distancia_referencia = distancia_total(solucion_referencia, problema)\n",
        "  \n",
        "  mejor_solucion = []\n",
        "  mejor_distancia = 10e10\n",
        "  \n",
        "  while T > 1:\n",
        "    vecina = generar_vecina(solucion_referencia, problema)\n",
        "    distancia_vecina = distancia_total(vecina, problema)\n",
        "    \n",
        "    if distancia_vecina < mejor_distancia:\n",
        "      mejor_distancia, mejor_solucion = distancia_vecina, vecina\n",
        "      \n",
        "    if distancia_vecina < distancia_referencia or probabilidad(T, abs(distancia_referencia - distancia_vecina)):\n",
        "      solucion_referencia = vecina\n",
        "      distancia_referencia = distancia_vecina\n",
        "    \n",
        "    T = bajar_temperatura(T)\n",
        "  \n",
        "  print(mejor_distancia)\n",
        "  return mejor_solucion\n",
        "    \n",
        "recocido_simulado(problema, 1000)"
      ],
      "execution_count": 0,
      "outputs": [
        {
          "output_type": "stream",
          "text": [
            "1980\n"
          ],
          "name": "stdout"
        },
        {
          "output_type": "execute_result",
          "data": {
            "text/plain": [
              "[0,\n",
              " 28,\n",
              " 30,\n",
              " 29,\n",
              " 39,\n",
              " 22,\n",
              " 38,\n",
              " 34,\n",
              " 33,\n",
              " 20,\n",
              " 32,\n",
              " 3,\n",
              " 1,\n",
              " 6,\n",
              " 26,\n",
              " 18,\n",
              " 10,\n",
              " 21,\n",
              " 24,\n",
              " 40,\n",
              " 11,\n",
              " 13,\n",
              " 19,\n",
              " 5,\n",
              " 4,\n",
              " 2,\n",
              " 27,\n",
              " 7,\n",
              " 17,\n",
              " 31,\n",
              " 35,\n",
              " 36,\n",
              " 37,\n",
              " 15,\n",
              " 8,\n",
              " 9,\n",
              " 23,\n",
              " 41,\n",
              " 25,\n",
              " 12,\n",
              " 16,\n",
              " 14]"
            ]
          },
          "metadata": {
            "tags": []
          },
          "execution_count": 32
        }
      ]
    },
    {
      "cell_type": "code",
      "metadata": {
        "id": "D22x3LxdAk6q",
        "colab_type": "code",
        "colab": {}
      },
      "source": [
        ""
      ],
      "execution_count": 0,
      "outputs": []
    }
  ]
}