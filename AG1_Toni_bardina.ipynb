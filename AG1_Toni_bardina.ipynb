{
  "nbformat": 4,
  "nbformat_minor": 0,
  "metadata": {
    "colab": {
      "name": "Toni_Bardina_AG1.ipynb",
      "version": "0.3.2",
      "provenance": [],
      "collapsed_sections": [],
      "include_colab_link": true
    },
    "kernelspec": {
      "name": "python3",
      "display_name": "Python 3"
    }
  },
  "cells": [
    {
      "cell_type": "markdown",
      "metadata": {
        "id": "view-in-github",
        "colab_type": "text"
      },
      "source": [
        "<a href=\"https://colab.research.google.com/github/tonibardina/03MAIR---Algoritmos-de-optimizacion/blob/master/Toni_Bardina_AG1.ipynb\" target=\"_parent\"><img src=\"https://colab.research.google.com/assets/colab-badge.svg\" alt=\"Open In Colab\"/></a>"
      ]
    },
    {
      "cell_type": "markdown",
      "metadata": {
        "id": "3016tVZGY9Xc",
        "colab_type": "text"
      },
      "source": [
        "Actividad guiada 1 - Toni Bardina Comas\n",
        "\n",
        "https://colab.research.google.com/drive/1GShx6di7yupFlqJiKryNzOb4IiPB0gQ5#scrollTo=3016tVZGY9Xc\n",
        "\n",
        "https://github.com/tonibardina"
      ]
    },
    {
      "cell_type": "code",
      "metadata": {
        "id": "nHfHxEc4fcJL",
        "colab_type": "code",
        "colab": {}
      },
      "source": [
        "########################## DECORATOR ##################################\n",
        "\n",
        "\n",
        "import timeit\n",
        "from copy import deepcopy\n",
        "import random\n",
        "\n",
        "def timer(func):\n",
        "    def wrapper(*args):\n",
        "        # Create args copy for some functions to not override arguments\n",
        "        argsCopy = deepcopy(args)\n",
        "        execTime = timeit.timeit(lambda: func(*argsCopy), number=10000)\n",
        "        # Call the  wrappered function\n",
        "        result = func(*args)\n",
        "        # Log execution time\n",
        "        print('Algorithm execution time =', execTime)\n",
        "        # return the wrappered function value\n",
        "        return result\n",
        "    return wrapper"
      ],
      "execution_count": 0,
      "outputs": []
    },
    {
      "cell_type": "code",
      "metadata": {
        "id": "Gf7eUAA7mEfi",
        "colab_type": "code",
        "colab": {
          "base_uri": "https://localhost:8080/",
          "height": 51
        },
        "outputId": "78a6b9fb-0cdd-4700-daa1-4527c5e354ed"
      },
      "source": [
        "########################## QUICKSORT ##################################\n",
        "\n",
        "\n",
        "list = [1,5,4,6,8,7,9,2,1,5,4,6,8,7,9,2]\n",
        "\n",
        "def quickSort(list):\n",
        "  if len(list) == 1:\n",
        "    return list\n",
        "  elif len(list) == 2:\n",
        "    return [min(list), max(list)]\n",
        "  \n",
        "  mean = sum(list)/len(list)\n",
        "  \n",
        "  left = []\n",
        "  right = []\n",
        "  \n",
        "  for i, x in enumerate(list):\n",
        "    if x <= mean:\n",
        "      left.append(x)\n",
        "    else:\n",
        "      right.append(x)\n",
        "  \n",
        "  left = quickSort(left)\n",
        "  right = quickSort(right)\n",
        "  \n",
        "  return left + right\n",
        "\n",
        "@timer\n",
        "def quickSortWrapper(list):\n",
        "  return quickSort(list)\n",
        "  \n",
        "quickSortWrapper(list)"
      ],
      "execution_count": 43,
      "outputs": [
        {
          "output_type": "stream",
          "text": [
            "Algorithm execution time = 0.16820946599909803\n"
          ],
          "name": "stdout"
        },
        {
          "output_type": "execute_result",
          "data": {
            "text/plain": [
              "[1, 1, 2, 2, 4, 4, 5, 5, 6, 6, 7, 7, 8, 8, 9, 9]"
            ]
          },
          "metadata": {
            "tags": []
          },
          "execution_count": 43
        }
      ]
    },
    {
      "cell_type": "code",
      "metadata": {
        "id": "b00-MWB2omrd",
        "colab_type": "code",
        "outputId": "28da49e7-d5e4-4d97-c604-2a2b417055eb",
        "colab": {
          "base_uri": "https://localhost:8080/",
          "height": 51
        }
      },
      "source": [
        "######################## CAMBIO DE MONEDAS ############################\n",
        "\n",
        "ms = [25, 10, 5, 1, 44, 55, 6, 7,9]\n",
        "\n",
        "@timer\n",
        "def return_change(q, ms):\n",
        "    change = []\n",
        "    cant_resolve = False\n",
        "    \n",
        "    while (q != sum(change) or cant_resolve == True):\n",
        "        # If quantity left is 0 all change has been returned\n",
        "        if q == 0:\n",
        "            break\n",
        "        \n",
        "        # If we can not resolve the quantity with the given monetary system\n",
        "        if q != 0 and len(ms) == 1 and q - ms[0] < 0:\n",
        "            cant_resolve = True\n",
        "            break\n",
        "        \n",
        "        # Add max value coin to the change list if possible\n",
        "        if q-max(ms) >= 0:\n",
        "            change.append(max(ms))\n",
        "            q = q - max(ms)\n",
        "        # Remove max value coin if we can not return it \n",
        "        else:\n",
        "            ms.remove(max(ms))\n",
        "    \n",
        "    if cant_resolve == True:\n",
        "        return 'Can not resolve'\n",
        "    else:\n",
        "        return change\n",
        "\n",
        "print(return_change(460, ms))"
      ],
      "execution_count": 44,
      "outputs": [
        {
          "output_type": "stream",
          "text": [
            "Algorithm execution time = 0.2752498170011677\n",
            "[55, 55, 55, 55, 55, 55, 55, 55, 10, 10]\n"
          ],
          "name": "stdout"
        }
      ]
    },
    {
      "cell_type": "code",
      "metadata": {
        "id": "n_ZurZfXh_t4",
        "colab_type": "code",
        "colab": {
          "base_uri": "https://localhost:8080/",
          "height": 51
        },
        "outputId": "2614a1e6-f9fc-426b-85c3-3a6ab6b479b3"
      },
      "source": [
        "##################### VUELTA ATRAS N-REINAS #########################\n",
        "\n",
        "def es_prometedora(SOLUCION, etapa):\n",
        "  for i in range(etapa+1):\n",
        "    if SOLUCION.count(SOLUCION[i]) > 1:\n",
        "      return False\n",
        "    \n",
        "    for j in range(i+1, etapa+1):\n",
        "      if abs(i-j) == abs(SOLUCION[i]-SOLUCION[j]):\n",
        "        return False\n",
        "  \n",
        "  return True\n",
        "\n",
        "def reinas(N, solucion = [], etapa = 0):\n",
        "  if len(solucion) == 0:\n",
        "    solucion = [0]*N\n",
        "  \n",
        "  for i in range(1,N+1):\n",
        "    solucion[etapa] = i\n",
        "    \n",
        "    if es_prometedora(solucion,etapa):\n",
        "      if etapa == N-1:\n",
        "        print('La solución es {}'.format(solucion))\n",
        "      else:\n",
        "        reinas(N,solucion,etapa+1)\n",
        "    else:\n",
        "      None\n",
        "    \n",
        "    solucion[etapa] = 0\n",
        "\n",
        "reinas(4)\n"
      ],
      "execution_count": 45,
      "outputs": [
        {
          "output_type": "stream",
          "text": [
            "La solución es [2, 4, 1, 3]\n",
            "La solución es [3, 1, 4, 2]\n"
          ],
          "name": "stdout"
        }
      ]
    },
    {
      "cell_type": "code",
      "metadata": {
        "id": "y-IPze7glvhs",
        "colab_type": "code",
        "colab": {
          "base_uri": "https://localhost:8080/",
          "height": 51
        },
        "outputId": "63a940f5-4907-4a2b-a829-0f6df79bd5b2"
      },
      "source": [
        "################### ENCONTRAR LOS DOS PUNTOS MÁS CERCANOS ######################\n",
        "\n",
        "# Utilizando fuerza bruta\n",
        "\n",
        "@timer\n",
        "def find_closest_points_fb(list=[]):\n",
        "  if len(list) == 0:\n",
        "    return 'Argument must be a list with at least two points'\n",
        "  if len(list) == 2:\n",
        "    return list\n",
        "  \n",
        "  # Set default parameters\n",
        "  # We use the max and min points to be sure they will\n",
        "  # be overwriten\n",
        "  pointsA = [max(list)]\n",
        "  pointsB = [min(list)]\n",
        "  distance = abs(pointsA[0]-pointsB[0])\n",
        "  \n",
        "  # Iterate list\n",
        "  for pos, x in enumerate(list):\n",
        "    # Iterate list again for each of the list values\n",
        "    for j in list:\n",
        "      # If distance between new positions is fewer than current one\n",
        "      if abs(pointsA[0]-pointsB[0]) > abs(x-j):\n",
        "        # Avoid getting distance between same points\n",
        "        if (x != j):\n",
        "          pointsA = [x]\n",
        "          pointsB = [j]\n",
        "          distance = abs(x-j)\n",
        "      # If other points have same distance than current one\n",
        "      # add thhese points to the list\n",
        "      elif abs(pointsA[0]-pointsB[0]) == abs(x-j):\n",
        "          pointsA.append(x)\n",
        "          pointsB.append(j)\n",
        "          distance = abs(x-j)\n",
        "        \n",
        "\n",
        "  return 'Start points: {} End points: {} Distance between them: {}'.format(pointsA,pointsB,distance)\n",
        "      \n",
        "    \n",
        "# Complejidad: PENDING!\n",
        "find_closest_points_fb([2,34,44,22])\n"
      ],
      "execution_count": 54,
      "outputs": [
        {
          "output_type": "stream",
          "text": [
            "Algorithm execution time = 0.09421022900096432\n"
          ],
          "name": "stdout"
        },
        {
          "output_type": "execute_result",
          "data": {
            "text/plain": [
              "'Start points: [34, 44] End points: [44, 34] Distance between them: 10'"
            ]
          },
          "metadata": {
            "tags": []
          },
          "execution_count": 54
        }
      ]
    }
  ]
}