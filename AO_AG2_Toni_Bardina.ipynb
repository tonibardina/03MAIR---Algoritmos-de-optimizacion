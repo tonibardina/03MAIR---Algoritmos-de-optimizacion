{
  "nbformat": 4,
  "nbformat_minor": 0,
  "metadata": {
    "colab": {
      "name": "AO_AG2_Toni_Bardina.ipynb",
      "version": "0.3.2",
      "provenance": [],
      "collapsed_sections": [],
      "include_colab_link": true
    },
    "kernelspec": {
      "name": "python3",
      "display_name": "Python 3"
    }
  },
  "cells": [
    {
      "cell_type": "markdown",
      "metadata": {
        "id": "view-in-github",
        "colab_type": "text"
      },
      "source": [
        "<a href=\"https://colab.research.google.com/github/tonibardina/03MAIR---Algoritmos-de-optimizacion/blob/master/AO_AG2_Toni_Bardina.ipynb\" target=\"_parent\"><img src=\"https://colab.research.google.com/assets/colab-badge.svg\" alt=\"Open In Colab\"/></a>"
      ]
    },
    {
      "cell_type": "markdown",
      "metadata": {
        "id": "dMSC8pfs3KJg",
        "colab_type": "text"
      },
      "source": [
        "Nombre: Toni Bardina Comas\n",
        "\n",
        "URL: "
      ]
    },
    {
      "cell_type": "markdown",
      "metadata": {
        "id": "CkK_P9IN3uzw",
        "colab_type": "text"
      },
      "source": [
        "Viaje por el rio"
      ]
    },
    {
      "cell_type": "code",
      "metadata": {
        "id": "hUD7Ggpzi8aO",
        "colab_type": "code",
        "colab": {}
      },
      "source": [
        "TARIFAS = [\n",
        "  [0,5,4,3,999,999,999],\n",
        "  [999,0,999,2,3,999,11],\n",
        "  [999,999, 0,1,999,4,10],\n",
        "  [999,999,999, 0,5,6,9],\n",
        "  [999,999, 999,999,0,999,4],\n",
        "  [999,999, 999,999,999,0,3],\n",
        "  [999,999,999,999,999,999,0]\n",
        "]"
      ],
      "execution_count": 0,
      "outputs": []
    },
    {
      "cell_type": "code",
      "metadata": {
        "id": "LbkLNtt-i2Ts",
        "colab_type": "code",
        "colab": {
          "base_uri": "https://localhost:8080/",
          "height": 34
        },
        "outputId": "c8f38c52-e272-4e75-be5e-37c7d91a5649"
      },
      "source": [
        "def precios(TARIFAS):\n",
        "  N = len(TARIFAS)\n",
        "  \n",
        "  PRECIOS = [[9999]*N for x in TARIFAS]\n",
        "  RUTA = [[\"\"]*N for x in TARIFAS]\n",
        "  \n",
        "  for x in range(1,N):\n",
        "    for j in range(x+1, N):\n",
        "      MIN = TARIFAS[x][j]\n",
        "      RUTA[x][j] = x\n",
        "      \n",
        "      for k in range(x,j):\n",
        "        if PRECIOS[x][k] + TARIFAS[k][j] < MIN:\n",
        "          MIN = PRECIOS[x][k] + TARIFAS[k][j]\n",
        "          RUTA[x][j] = k\n",
        "      PRECIOS[x][j] = MIN\n",
        "      \n",
        "  return PRECIOS, RUTA\n",
        "      \n",
        "    \n",
        "\n",
        "PRECIOS, RUTA = precios(TARIFAS)\n",
        "\n",
        "\n",
        "def calcular_ruta(RUTA, desde, hasta):\n",
        "  if desde == hasta:\n",
        "    return desde\n",
        "  else:\n",
        "    return str(calcular_ruta(RUTA, desde, RUTA[desde][hasta])) + ' - ' + str(RUTA[desde][hasta])\n",
        "\n",
        "\n",
        "calcular_ruta(RUTA, 1, 6)"
      ],
      "execution_count": 27,
      "outputs": [
        {
          "output_type": "execute_result",
          "data": {
            "text/plain": [
              "'1 - 1 - 4'"
            ]
          },
          "metadata": {
            "tags": []
          },
          "execution_count": 27
        }
      ]
    },
    {
      "cell_type": "markdown",
      "metadata": {
        "id": "48Y5sNqL3qFc",
        "colab_type": "text"
      },
      "source": [
        "Asignación de tareas, ramificación y poda"
      ]
    },
    {
      "cell_type": "code",
      "metadata": {
        "id": "kABhnA65zyvh",
        "colab_type": "code",
        "colab": {}
      },
      "source": [
        "COSTES= [[11,12,18,40],\n",
        "        [14,15,13,22],\n",
        "        [11,17,19,23],\n",
        "        [17,14,20,28]]"
      ],
      "execution_count": 0,
      "outputs": []
    },
    {
      "cell_type": "code",
      "metadata": {
        "id": "yZzKXqjb36Jq",
        "colab_type": "code",
        "colab": {
          "base_uri": "https://localhost:8080/",
          "height": 34
        },
        "outputId": "0cbc97a6-4776-40f4-8530-eaa38d42c3f2"
      },
      "source": [
        "from itertools import permutations\n",
        "\n",
        "\n",
        "def valor(S, COSTES):\n",
        "  VALOR=0\n",
        "  for i in range(len(S)):\n",
        "    VALOR += COSTES[S[i]][i]\n",
        "   \n",
        "  return VALOR\n",
        "\n",
        "\n",
        "def fuerza_bruta(COSTES):\n",
        "  mejor_valor=10e10\n",
        "  mejor_solucion=''\n",
        "  \n",
        "  for S in list(permutations(range(len(COSTES)))):\n",
        "    valor_tmp = valor(S, COSTES)\n",
        "    if valor_tmp < mejor_valor:\n",
        "      mejor_solucion = S\n",
        "      mejor_valor = valor_tmp\n",
        "      \n",
        "  print('Mejor solución: ', mejor_solucion)\n",
        "  \n",
        "fuerza_bruta(COSTES)"
      ],
      "execution_count": 31,
      "outputs": [
        {
          "output_type": "stream",
          "text": [
            "Mejor solución:  (0, 3, 1, 2)\n"
          ],
          "name": "stdout"
        }
      ]
    },
    {
      "cell_type": "code",
      "metadata": {
        "id": "cfNiY92a5Ruz",
        "colab_type": "code",
        "colab": {}
      },
      "source": [
        "COSTES= [[11,12,18,40],\n",
        "        [14,15,13,22],\n",
        "        [11,17,19,23],\n",
        "        [17,14,20,28]]"
      ],
      "execution_count": 0,
      "outputs": []
    },
    {
      "cell_type": "code",
      "metadata": {
        "id": "dSGNrXT952A1",
        "colab_type": "code",
        "colab": {
          "base_uri": "https://localhost:8080/",
          "height": 34
        },
        "outputId": "8aa4ad56-7c72-4203-8560-d6358a59f0dd"
      },
      "source": [
        "def CI(S, COSTES):\n",
        "  VALOR = 0\n",
        "  \n",
        "  for i in range(len(S)):\n",
        "    VALOR += COSTES[i][S[i]]\n",
        "    \n",
        "  # Estimaciones\n",
        "  for i in range(len(COSTES)):\n",
        "    if i not in S:\n",
        "      VALOR += min([ COSTES[j][i] for j in range(len(S), len(COSTES))])\n",
        "    \n",
        "  return VALOR\n",
        "\n",
        "\n",
        "def crear_hijos(NODO, N):\n",
        "  HIJOS=[]\n",
        "  for i in range(N):\n",
        "    if i not in NODO:\n",
        "      HIJOS.append({ 's': NODO + (i,)})\n",
        "      \n",
        "  return HIJOS\n",
        "\n",
        "crear_hijos((0,2), 4)"
      ],
      "execution_count": 33,
      "outputs": [
        {
          "output_type": "execute_result",
          "data": {
            "text/plain": [
              "[{'s': (0, 2, 1)}, {'s': (0, 2, 3)}]"
            ]
          },
          "metadata": {
            "tags": []
          },
          "execution_count": 33
        }
      ]
    },
    {
      "cell_type": "code",
      "metadata": {
        "id": "7ZX3E7WV9G6l",
        "colab_type": "code",
        "colab": {
          "base_uri": "https://localhost:8080/",
          "height": 527
        },
        "outputId": "c3caf92d-6ce6-4c10-f677-6d14d9a119be"
      },
      "source": [
        "def ramificacion_y_poda(COSTES):\n",
        "  DIMENSION = len(COSTES)\n",
        "  \n",
        "  MEJOR_SOLUCION = tuple(i for i in range(DIMENSION))\n",
        "  \n",
        "  CotaSup = valor(MEJOR_SOLUCION, COSTES)\n",
        "  \n",
        "  NODOS=[]\n",
        "  NODOS.append({'s': (), 'ci': CI((), COSTES)})\n",
        "  \n",
        "  \n",
        "  iteracion = 0\n",
        "  \n",
        "  while (len(NODOS) > 0):\n",
        "    print('#', iteracion)\n",
        "    iteracion+=1\n",
        "    \n",
        "    nodo_prometedor= min(NODOS, key=lambda x: x['ci'])\n",
        "    \n",
        "    # HIJOS\n",
        "    HIJOS = [{'s': x['s'], 'ci': CI(x['s'], COSTES)} for x in crear_hijos(nodo_prometedor['s'], DIMENSION) ]\n",
        "    \n",
        "    NODO_FINAL = [x for x in HIJOS if len(x['s']) == DIMENSION]\n",
        "    if len(NODO_FINAL) > 0:\n",
        "      if NODO_FINAL[0]['ci'] < CotaSup:\n",
        "        CotaSup = NODO_FINAL[0]['ci']\n",
        "        MEJOR_SOLUCION = NODO_FINAL[0]\n",
        "    \n",
        "    # Poda\n",
        "    HIJOS = [x for x in HIJOS if x['ci']<CotaSup]\n",
        "    \n",
        "    print(nodo_prometedor)\n",
        "    # Eliminamos el nodo expandido\n",
        "    NODOS = [x for x in NODOS if x['s'] != nodo_prometedor['s']]\n",
        "    \n",
        "    # Añadimos los hijos\n",
        "    NODOS.extend(HIJOS)\n",
        "    \n",
        "  \n",
        "  print('\\nMejor solución: {}'.format(MEJOR_SOLUCION))\n",
        "  \n",
        "\n",
        "ramificacion_y_poda(COSTES)"
      ],
      "execution_count": 49,
      "outputs": [
        {
          "output_type": "stream",
          "text": [
            "# 0\n",
            "{'s': (), 'ci': 58}\n",
            "# 1\n",
            "{'s': (1,), 'ci': 58}\n",
            "# 2\n",
            "{'s': (1, 2), 'ci': 59}\n",
            "# 3\n",
            "{'s': (0,), 'ci': 60}\n",
            "# 4\n",
            "{'s': (0, 2), 'ci': 61}\n",
            "# 5\n",
            "{'s': (0, 2, 3), 'ci': 61}\n",
            "# 6\n",
            "{'s': (1, 3), 'ci': 64}\n",
            "# 7\n",
            "{'s': (1, 2, 0), 'ci': 64}\n",
            "# 8\n",
            "{'s': (2,), 'ci': 65}\n",
            "# 9\n",
            "{'s': (1, 2, 3), 'ci': 65}\n",
            "# 10\n",
            "{'s': (0, 3), 'ci': 66}\n",
            "# 11\n",
            "{'s': (1, 0), 'ci': 68}\n",
            "# 12\n",
            "{'s': (0, 1), 'ci': 68}\n",
            "# 13\n",
            "{'s': (0, 2, 1), 'ci': 69}\n",
            "\n",
            "Mejor solución: {'s': (0, 2, 3, 1), 'ci': 61}\n"
          ],
          "name": "stdout"
        }
      ]
    },
    {
      "cell_type": "code",
      "metadata": {
        "id": "DJjpIvvE8ZbU",
        "colab_type": "code",
        "colab": {}
      },
      "source": [
        ""
      ],
      "execution_count": 0,
      "outputs": []
    }
  ]
}